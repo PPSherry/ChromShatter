{
 "cells": [
  {
   "cell_type": "markdown",
   "metadata": {},
   "source": [
    "我如何提取这种文件中的这类图片，以及样本名信息和CN等数据呢？一共有几百页，人工去做提取的耗时很大。我需要从这类pdf文件里提取我所需要的训练模型的图片和信息，如何自动化的完成"
   ]
  },
  {
   "cell_type": "markdown",
   "metadata": {},
   "source": [
    "适用于非嵌入式的图片"
   ]
  },
  {
   "cell_type": "code",
   "execution_count": null,
   "metadata": {},
   "outputs": [
    {
     "name": "stdout",
     "output_type": "stream",
     "text": [
      "Saved page as image: /Volumes/T7-shield/CS-Bachelor-Thesis/CNN_model/pdf_convert/page_1.png\n",
      "Saved cropped image: /Volumes/T7-shield/CS-Bachelor-Thesis/CNN_model/pdf_convert/page_1_part_1.png\n",
      "Saved cropped image: /Volumes/T7-shield/CS-Bachelor-Thesis/CNN_model/pdf_convert/page_1_part_2.png\n",
      "Saved cropped image: /Volumes/T7-shield/CS-Bachelor-Thesis/CNN_model/pdf_convert/page_1_part_3.png\n",
      "Saved cropped image: /Volumes/T7-shield/CS-Bachelor-Thesis/CNN_model/pdf_convert/page_1_part_4.png\n",
      "Saved page as image: /Volumes/T7-shield/CS-Bachelor-Thesis/CNN_model/pdf_convert/page_2.png\n",
      "Saved cropped image: /Volumes/T7-shield/CS-Bachelor-Thesis/CNN_model/pdf_convert/page_2_part_1.png\n",
      "Saved cropped image: /Volumes/T7-shield/CS-Bachelor-Thesis/CNN_model/pdf_convert/page_2_part_2.png\n",
      "Saved cropped image: /Volumes/T7-shield/CS-Bachelor-Thesis/CNN_model/pdf_convert/page_2_part_3.png\n",
      "Saved cropped image: /Volumes/T7-shield/CS-Bachelor-Thesis/CNN_model/pdf_convert/page_2_part_4.png\n",
      "Saved page as image: /Volumes/T7-shield/CS-Bachelor-Thesis/CNN_model/pdf_convert/page_3.png\n",
      "Saved cropped image: /Volumes/T7-shield/CS-Bachelor-Thesis/CNN_model/pdf_convert/page_3_part_1.png\n",
      "Saved cropped image: /Volumes/T7-shield/CS-Bachelor-Thesis/CNN_model/pdf_convert/page_3_part_2.png\n",
      "Saved cropped image: /Volumes/T7-shield/CS-Bachelor-Thesis/CNN_model/pdf_convert/page_3_part_3.png\n",
      "Saved cropped image: /Volumes/T7-shield/CS-Bachelor-Thesis/CNN_model/pdf_convert/page_3_part_4.png\n",
      "Saved page as image: /Volumes/T7-shield/CS-Bachelor-Thesis/CNN_model/pdf_convert/page_4.png\n",
      "Saved cropped image: /Volumes/T7-shield/CS-Bachelor-Thesis/CNN_model/pdf_convert/page_4_part_1.png\n",
      "Saved cropped image: /Volumes/T7-shield/CS-Bachelor-Thesis/CNN_model/pdf_convert/page_4_part_2.png\n",
      "Saved cropped image: /Volumes/T7-shield/CS-Bachelor-Thesis/CNN_model/pdf_convert/page_4_part_3.png\n",
      "Saved cropped image: /Volumes/T7-shield/CS-Bachelor-Thesis/CNN_model/pdf_convert/page_4_part_4.png\n"
     ]
    }
   ],
   "source": [
    "from pdf2image import convert_from_path\n",
    "import cv2\n",
    "import os\n",
    "\n",
    "def convert_pdf_to_images(pdf_path, output_dir, dpi=300):\n",
    "    if not os.path.exists(output_dir):\n",
    "        os.makedirs(output_dir)\n",
    "\n",
    "    pages = convert_from_path(pdf_path, dpi=dpi)\n",
    "\n",
    "    for i, page in enumerate(pages):\n",
    "        page_filename = f\"{output_dir}/page_{i+1}.png\"\n",
    "        page.save(page_filename, \"PNG\")\n",
    "        print(f\"Saved page as image: {page_filename}\")\n",
    "\n",
    "def extract_sv_image_from_page(image_path, output_dir, x, y, w, h):\n",
    "    img = cv2.imread(image_path)\n",
    "\n",
    "    # 使用固定坐标裁剪\n",
    "    cropped_img = img[y:y+h, x:x+w]\n",
    "    output_filename = f\"{output_dir}/{os.path.basename(image_path)}_sv_cropped.png\"\n",
    "    cv2.imwrite(output_filename, cropped_img)\n",
    "    print(f\"Saved cropped SV image: {output_filename}\")\n",
    "\n",
    "# 示例使用\n",
    "pdf_path = \"/Users/xurui/back_up_unit/天津大学文件/本科毕设相关/Article/high-confidence-test.pdf\"\n",
    "page_output_dir = \"/Volumes/T7-shield/CS-Bachelor-Thesis/CNN_model/pdf_convert\"\n",
    "image_output_dir = \"cropped_images\"\n",
    "\n",
    "convert_pdf_to_images(pdf_path, page_output_dir)\n",
    "\n",
    "# 固定坐标（根据实际位置调整）\n",
    "# x, y, w, h = 100, 200, 300, 400  # 示例坐标\n",
    "\n",
    "# if not os.path.exists(image_output_dir):\n",
    "#     os.makedirs(image_output_dir)\n",
    "# for page_file in os.listdir(page_output_dir):\n",
    "#     if page_file.endswith(\".png\"):\n",
    "#         page_path = os.path.join(page_output_dir, page_file)\n",
    "#         extract_sv_image_from_page(page_path, image_output_dir, x, y, w, h)"
   ]
  }
 ],
 "metadata": {
  "kernelspec": {
   "display_name": "pdf_extract",
   "language": "python",
   "name": "python3"
  },
  "language_info": {
   "codemirror_mode": {
    "name": "ipython",
    "version": 3
   },
   "file_extension": ".py",
   "mimetype": "text/x-python",
   "name": "python",
   "nbconvert_exporter": "python",
   "pygments_lexer": "ipython3",
   "version": "3.9.21"
  }
 },
 "nbformat": 4,
 "nbformat_minor": 2
}
