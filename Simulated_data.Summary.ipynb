{
 "cells": [
  {
   "cell_type": "markdown",
   "metadata": {},
   "source": [
    "# Chromothripsis 状态统计\n"
   ]
  },
  {
   "cell_type": "code",
   "execution_count": 1,
   "metadata": {},
   "outputs": [
    {
     "name": "stdout",
     "output_type": "stream",
     "text": [
      "plot_path不为NA的行数: 22287\n",
      "\n",
      "在这些行中:\n",
      "High Confidence: 637 (2.86%)\n",
      "Low Confidence: 326 (1.46%)\n",
      "Not Significant: 21324 (95.68%)\n"
     ]
    }
   ],
   "source": [
    "import pandas as pd\n",
    "\n",
    "# 读取TSV文件\n",
    "df = pd.read_csv('SV_graph.simulated/all_samples_results.tsv', sep='\\t')\n",
    "\n",
    "# 找出plot_path不为NA的行\n",
    "valid_plots = df[df['plot_path'].notna() & (df['plot_path'] != 'NA')]\n",
    "total_valid = len(valid_plots)\n",
    "\n",
    "# 统计各种染色体断裂状态的数量\n",
    "high_confidence = len(valid_plots[valid_plots['chromothripsis_status'] == 'High Confidence'])\n",
    "low_confidence = len(valid_plots[valid_plots['chromothripsis_status'] == 'Low Confidence'])\n",
    "not_significant = len(valid_plots[valid_plots['chromothripsis_status'] == 'Not Significant'])\n",
    "\n",
    "# 输出结果\n",
    "print(f\"plot_path不为NA的行数: {total_valid}\")\n",
    "print(\"\\n在这些行中:\")\n",
    "print(f\"High Confidence: {high_confidence} ({high_confidence/total_valid*100:.2f}%)\")\n",
    "print(f\"Low Confidence: {low_confidence} ({low_confidence/total_valid*100:.2f}%)\")\n",
    "print(f\"Not Significant: {not_significant} ({not_significant/total_valid*100:.2f}%)\")\n",
    "\n",
    "# 检查是否有其他状态\n",
    "other = total_valid - (high_confidence + low_confidence + not_significant)\n",
    "if other > 0:\n",
    "    print(f\"其他状态: {other} ({other/total_valid*100:.2f}%)\")"
   ]
  },
  {
   "cell_type": "markdown",
   "metadata": {},
   "source": [
    "# High Confidence Std 失败的统计"
   ]
  },
  {
   "cell_type": "code",
   "execution_count": 3,
   "metadata": {},
   "outputs": [],
   "source": [
    "def advanced_filter(df, criteria_dict, match_type='exact'):\n",
    "    \"\"\"\n",
    "    根据多个条件筛选dataframe\n",
    "    \n",
    "    参数：\n",
    "    df: pandas DataFrame - 要筛选的数据框\n",
    "    criteria_dict: dict - 键为列名，值为匹配值的字典\n",
    "    match_type: str - 匹配类型，可选'exact'(精确匹配)或'contains'(包含匹配)\n",
    "    \n",
    "    返回：\n",
    "    pandas DataFrame - 包含匹配行的数据框\n",
    "    \"\"\"\n",
    "    result = df.copy()\n",
    "    \n",
    "    for column, value in criteria_dict.items():\n",
    "        # 检查列名是否存在\n",
    "        if column not in df.columns:\n",
    "            raise ValueError(f\"列名 '{column}' 在数据框中不存在\")\n",
    "        \n",
    "        # 根据匹配类型应用筛选\n",
    "        if match_type == 'exact':\n",
    "            result = result[result[column] == value]\n",
    "        elif match_type == 'contains':\n",
    "            # 确保列和值都是字符串类型\n",
    "            result = result[result[column].astype(str).str.contains(str(value), na=False)]\n",
    "        else:\n",
    "            raise ValueError(\"match_type必须是'exact'或'contains'\")\n",
    "    \n",
    "    # 打印匹配结果信息\n",
    "    print(f\"根据指定条件共找到 {len(result)} 行匹配\")\n",
    "    \n",
    "    return result\n"
   ]
  },
  {
   "cell_type": "code",
   "execution_count": 10,
   "metadata": {},
   "outputs": [
    {
     "name": "stdout",
     "output_type": "stream",
     "text": [
      "根据指定条件共找到 489 行匹配\n",
      "23        TCGA-OR-A5J7_chr1_SV_plot.png\n",
      "24        TCGA-OR-A5J7_chr2_SV_plot.png\n",
      "31        TCGA-OR-A5J7_chr9_SV_plot.png\n",
      "34       TCGA-OR-A5J7_chr12_SV_plot.png\n",
      "79       TCGA-OR-A5LO_chr11_SV_plot.png\n",
      "                      ...              \n",
      "32500     TCGA-N8-A56S_chr2_SV_plot.png\n",
      "32536    TCGA-N6-A4VE_chr15_SV_plot.png\n",
      "32591     TCGA-VD-A8KH_chr1_SV_plot.png\n",
      "33258     TCGA-V4-A9F0_chr1_SV_plot.png\n",
      "33273    TCGA-V4-A9F0_chr16_SV_plot.png\n",
      "Name: plot_path, Length: 489, dtype: object\n"
     ]
    }
   ],
   "source": [
    "# 使用示例:\n",
    "import pandas as pd\n",
    "\n",
    "df = pd.read_csv('SV_graph.simulated/all_samples_results.tsv', sep='\\t')\n",
    "multiple_criteria = advanced_filter(df, \n",
    "                                   {'HC_standard': 'intra_chr_num_6'}, \n",
    "                                   match_type='exact')\n",
    "print(multiple_criteria['plot_path'])"
   ]
  }
 ],
 "metadata": {
  "kernelspec": {
   "display_name": "d2l",
   "language": "python",
   "name": "python3"
  },
  "language_info": {
   "codemirror_mode": {
    "name": "ipython",
    "version": 3
   },
   "file_extension": ".py",
   "mimetype": "text/x-python",
   "name": "python",
   "nbconvert_exporter": "python",
   "pygments_lexer": "ipython3",
   "version": "3.9.20"
  }
 },
 "nbformat": 4,
 "nbformat_minor": 2
}
